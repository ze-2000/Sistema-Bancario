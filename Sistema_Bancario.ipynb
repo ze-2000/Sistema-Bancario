{
  "nbformat": 4,
  "nbformat_minor": 0,
  "metadata": {
    "colab": {
      "provenance": [],
      "authorship_tag": "ABX9TyN+YbXPVBcihkGlvDDaLWkR",
      "include_colab_link": true
    },
    "kernelspec": {
      "name": "python3",
      "display_name": "Python 3"
    },
    "language_info": {
      "name": "python"
    }
  },
  "cells": [
    {
      "cell_type": "markdown",
      "metadata": {
        "id": "view-in-github",
        "colab_type": "text"
      },
      "source": [
        "<a href=\"https://colab.research.google.com/github/ze-2000/Sistema-Bancario/blob/main/Sistema_Bancario.ipynb\" target=\"_parent\"><img src=\"https://colab.research.google.com/assets/colab-badge.svg\" alt=\"Open In Colab\"/></a>"
      ]
    },
    {
      "cell_type": "markdown",
      "source": [
        "SISTEMA BANCARIO\n",
        "\n",
        "4.\tProjeto a Ser Desenvolvido:\n",
        "4.1\t**Funcionalidades**:\n",
        "O programa deve:\n",
        "•\tExibir um menu de opções para o usuário.\n",
        "•\tSolicitar ao usuário que escolha uma opção.\n",
        "•\tExecutar a operação correspondente à opção escolhida:\n",
        "•\tConsulta de Saldo: Exibir o saldo atual da conta.\n",
        "o\tSaque: Permitir ao usuário sacar um valor da conta, verificando se há saldo suficiente.\n",
        "o\tDepósito: Permitir ao usuário depositar um valor na conta.\n",
        "o\tExtrato: Exibir as últimas transações realizadas na conta.\n",
        "o\tSair: Encerrar o programa.\n",
        "•\tRepetir o processo até que o usuário escolha a opção de sair.\n",
        "•\tExibir mensagens claras e informativas para o usuário.\n",
        "4.2\tDados de Entrada:\n",
        "•\tOpção do menu escolhida pelo usuário (inteiro).\n",
        "•\tValor do saque ou depósito (real).\n",
        "4.3\tDados de Saída:\n",
        "•\tSaldo atual da conta (real).\n",
        "•\tMensagens informativas (ex: \"Saldo insuficiente\", \"Saque realizado com sucesso\").\n",
        "•\tMenu de opções.\n",
        "4.4\tEtapas de Desenvolvimento (Fluxo do Programa):\n",
        "•\tEtapa 1: Apresentação e Menu\n",
        "o\tExibir uma mensagem de boas-vindas.\n",
        "o\tDefinir as opções do menu (1 - Consulta de Saldo, 2 - Saque, 3 - Depósito, 4 - Sair).\n",
        "o\tSolicitar ao usuário que escolha uma opção.\n",
        "o\tValidar a opção escolhida (verificar se é uma opção válida).\n",
        "•\tEtapa 2: Implementação das Operações\n",
        "o\tImplementar a função/procedimento para cada operação (consulta de saldo, saque, depósito).\n",
        "o\tConsulta de Saldo: Exibir o valor do saldo.\n",
        "o\tSaque: Solicitar o valor do saque, verificar se há saldo suficiente, atualizar o saldo e exibir uma mensagem de sucesso ou erro.\n",
        "o\tDepósito: Solicitar o valor do depósito, atualizar o saldo e exibir uma mensagem de sucesso.\n",
        "•\tEtapa 3: Laço Principal\n",
        "o\tUtilizar um laço while para repetir as operações até que o usuário escolha a opção de sair.\n",
        "o\tChamar a função/procedimento correspondente à opção escolhida pelo usuário.\n",
        "•\tEtapa 4: Validação de Entrada Robusta\n",
        "o\tAdicionar tratamento de exceções para garantir que o usuário sempre forneça entradas válidas (números inteiros para opções do menu e números reais para valores de saque/depósito).\n",
        "•\tEtapa 5: Extrato Bancário Detalhado\n",
        "o\tImplementar a funcionalidade de extrato, armazenando as transações em uma lista e exibindo-as formatadas.\n",
        "•\tEtapa 6: Persistência de Dados (Básico)\n",
        "•\tAdicionar a funcionalidade de salvar o saldo e o extrato em arquivos e carregá-los ao iniciar o programa.\n"
      ],
      "metadata": {
        "id": "0bVosN0-K8zt"
      }
    },
    {
      "cell_type": "markdown",
      "source": [
        "Validação de Entrada Robusta\n",
        "Criação do Algoritmo:\n",
        "Modificar o código para usar try-except para tratar erros quando o usuário digita uma opção de menu que não é um número inteiro.\n",
        "Dentro das funções sacar() e depositar(), usar try-except para garantir que o valor digitado pelo usuário seja um número real.\n",
        "Se ocorrer um erro de tipo (ValueError), exibir uma mensagem de erro clara para o usuário e pedir para digitar o valor novamente.\n"
      ],
      "metadata": {
        "id": "08dWf4MaUi07"
      }
    },
    {
      "cell_type": "markdown",
      "source": [],
      "metadata": {
        "id": "bSyRnaXwWnAp"
      }
    },
    {
      "cell_type": "code",
      "execution_count": null,
      "metadata": {
        "id": "fjypyAl5JU4m"
      },
      "outputs": [],
      "source": [
        "# Exemplo de código para validação de entrada robusta\n",
        "def sacar(saldo):\n",
        "    try:\n",
        "        valor = float(input(\"Digite o valor do saque: \"))\n",
        "        if valor <= saldo:\n",
        "            saldo -= valor\n",
        "            print(\"Saque realizado com sucesso!\")\n",
        "        else:\n",
        "            print(\"Saldo insuficiente.\")\n",
        "    except ValueError:\n",
        "        print(\"Valor inválido. Tente novamente.\")\n",
        "    return saldo\n",
        "\n",
        "def depositar(saldo):\n",
        "    try:\n",
        "        valor = float(input(\"Digite o valor do depósito: \"))\n",
        "        saldo += valor\n",
        "        print(\"Depósito realizado com sucesso!\")\n",
        "    except ValueError:\n",
        "        print(\"Valor inválido. Tente novamente.\")\n",
        "    return saldo\n"
      ]
    },
    {
      "cell_type": "markdown",
      "source": [
        "Extrato Bancário Detalhado\n",
        "Criação do Algoritmo:\n",
        "Criar uma lista vazia chamada extrato para armazenar as transações. Cada transação será um dicionário com a data/hora, tipo de transação e valor.\n",
        "Modificar as funções sacar() e depositar() para, antes de atualizar o saldo, adicionar um dicionário à lista extrato com os detalhes da transação. Para a data e hora, utilize a biblioteca datetime.\n",
        "Criar uma função exibir_extrato() que itera sobre a lista extrato e exibe cada transação formatada. Se o extrato estiver vazio, exibir a mensagem \"Não foram realizadas transações.\""
      ],
      "metadata": {
        "id": "Y6re4yB9WqK5"
      }
    },
    {
      "cell_type": "code",
      "source": [
        "import datetime\n",
        "\n",
        "extrato = []\n",
        "\n",
        "def sacar(saldo):\n",
        "    try:\n",
        "        valor = float(input(\"Digite o valor do saque: \"))\n",
        "        if valor <= saldo:\n",
        "            saldo -= valor\n",
        "            transacao = {\"data\": datetime.datetime.now(), \"tipo\": \"Saque\", \"valor\": valor}\n",
        "            extrato.append(transacao)\n",
        "            print(\"Saque realizado com sucesso!\")\n",
        "        else:\n",
        "            print(\"Saldo insuficiente.\")\n",
        "    except ValueError:\n",
        "        print(\"Valor inválido. Tente novamente.\")\n",
        "    return saldo\n",
        "\n",
        "def depositar(saldo):\n",
        "    try:\n",
        "        valor = float(input(\"Digite o valor do depósito: \"))\n",
        "        saldo += valor\n",
        "        transacao = {\"data\": datetime.datetime.now(), \"tipo\": \"Depósito\", \"valor\": valor}\n",
        "        extrato.append(transacao)\n",
        "        print(\"Depósito realizado com sucesso!\")\n",
        "    except ValueError:\n",
        "        print(\"Valor inválido. Tente novamente.\")\n",
        "    return saldo\n",
        "\n",
        "def exibir_extrato():\n",
        "    if extrato:\n",
        "        for transacao in extrato:\n",
        "            print(f\"{transacao['data']} - {transacao['tipo']}: R${transacao['valor']:.2f}\")\n",
        "    else:\n",
        "        print(\"Não foram realizadas transações.\")\n"
      ],
      "metadata": {
        "id": "zvFWJKOqXtVq"
      },
      "execution_count": null,
      "outputs": []
    },
    {
      "cell_type": "markdown",
      "source": [
        "Persistência de Dados (Básico)\n",
        "Criação do Algoritmo:\n",
        "Importar o módulo json para salvar e carregar os dados em formato JSON.\n",
        "No início do programa, tentar abrir um arquivo chamado \"banco_dados.json\" em modo de leitura (\"r\"). Se o arquivo existir, carregar o saldo e o extrato de lá. Se o arquivo não existir (FileNotFoundError), definir o saldo inicial e o extrato como uma lista vazia.\n",
        "No final do programa, antes de sair do loop while, abrir o arquivo \"banco_dados.json\" em modo de escrita (\"w\") e salvar o saldo e o extrato no arquivo usando json.dump().\n",
        "Implementação do código:"
      ],
      "metadata": {
        "id": "5wXkvAtrYwuB"
      }
    },
    {
      "cell_type": "code",
      "source": [
        "import json\n",
        "\n",
        "def carregar_dados():\n",
        "    try:\n",
        "        with open(\"banco_dados.json\", \"r\") as file:\n",
        "            dados = json.load(file)\n",
        "            saldo = dados[\"saldo\"]\n",
        "            extrato = dados[\"extrato\"]\n",
        "    except FileNotFoundError:\n",
        "        saldo = 0.0\n",
        "        extrato = []\n",
        "    return saldo, extrato\n",
        "\n",
        "def salvar_dados(saldo, extrato):\n",
        "    with open(\"banco_dados.json\", \"w\") as file:\n",
        "        dados = {\"saldo\": saldo, \"extrato\": extrato}\n",
        "        json.dump(dados, file)\n",
        "\n",
        "# Exemplo de uso\n",
        "saldo, extrato = carregar_dados()\n",
        "# ... operações bancárias ...\n",
        "salvar_dados(saldo, extrato)\n"
      ],
      "metadata": {
        "id": "5BSLdRQ7Yx3Z"
      },
      "execution_count": null,
      "outputs": []
    }
  ]
}