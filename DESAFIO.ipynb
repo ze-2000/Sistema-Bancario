{
  "nbformat": 4,
  "nbformat_minor": 0,
  "metadata": {
    "colab": {
      "provenance": [],
      "authorship_tag": "ABX9TyOQHxNB180AwkJfnwlo5yPS",
      "include_colab_link": true
    },
    "kernelspec": {
      "name": "python3",
      "display_name": "Python 3"
    },
    "language_info": {
      "name": "python"
    }
  },
  "cells": [
    {
      "cell_type": "markdown",
      "metadata": {
        "id": "view-in-github",
        "colab_type": "text"
      },
      "source": [
        "<a href=\"https://colab.research.google.com/github/ze-2000/Sistema-Bancario/blob/main/DESAFIO.ipynb\" target=\"_parent\"><img src=\"https://colab.research.google.com/assets/colab-badge.svg\" alt=\"Open In Colab\"/></a>"
      ]
    },
    {
      "cell_type": "markdown",
      "source": [
        "DESAFIO\n",
        "\n",
        "Solicitar o número da conta de destino.\n",
        "Solicitar o valor a ser transferido.\n",
        "Verificar se há saldo suficiente para a transferência.\n",
        "Subtrair o valor do saldo e registrar a transação no extrato.\n",
        "Exibir uma mensagem de sucesso e o novo saldo."
      ],
      "metadata": {
        "id": "yefsNRLzbbah"
      }
    },
    {
      "cell_type": "code",
      "execution_count": null,
      "metadata": {
        "id": "4_h28OLBbZaT"
      },
      "outputs": [],
      "source": [
        "import datetime\n",
        "\n",
        "extrato = []\n",
        "\n",
        "def sacar(saldo):\n",
        "    try:\n",
        "        valor = float(input(\"Digite o valor do saque: \"))\n",
        "        if valor <= saldo:\n",
        "            saldo -= valor\n",
        "            transacao = {\"data\": datetime.datetime.now(), \"tipo\": \"Saque\", \"valor\": valor}\n",
        "            extrato.append(transacao)\n",
        "            print(\"Saque realizado com sucesso!\")\n",
        "        else:\n",
        "            print(\"Saldo insuficiente.\")\n",
        "    except ValueError:\n",
        "        print(\"Valor inválido. Tente novamente.\")\n",
        "    return saldo\n",
        "\n",
        "def depositar(saldo):\n",
        "    try:\n",
        "        valor = float(input(\"Digite o valor do depósito: \"))\n",
        "        saldo += valor\n",
        "        transacao = {\"data\": datetime.datetime.now(), \"tipo\": \"Depósito\", \"valor\": valor}\n",
        "        extrato.append(transacao)\n",
        "        print(\"Depósito realizado com sucesso!\")\n",
        "    except ValueError:\n",
        "        print(\"Valor inválido. Tente novamente.\")\n",
        "    return saldo\n",
        "\n",
        "def exibir_extrato():\n",
        "    if extrato:\n",
        "        for transacao in extrato:\n",
        "            print(f\"{transacao['data']} - {transacao['tipo']}: R${transacao['valor']:.2f}\")\n",
        "    else:\n",
        "        print(\"Não foram realizadas transações.\")\n",
        "\n",
        "def transferir(saldo):\n",
        "    try:\n",
        "        conta_destino = input(\"Digite o número da conta do destinatário: \")\n",
        "        valor = float(input(\"Digite o valor a transferir: \"))\n",
        "        if valor <= saldo:\n",
        "            saldo -= valor\n",
        "            transacao = {\"data\": datetime.datetime.now(), \"tipo\": \"Transferência\", \"valor\": valor, \"destino\": conta_destino}\n",
        "            extrato.append(transacao)\n",
        "            print(f\"Transferência de R${valor:.2f} realizada com sucesso para a conta {conta_destino}.\")\n",
        "            print(f\"Seu novo saldo é R${saldo:.2f}\")\n",
        "        else:\n",
        "            print(\"Saldo insuficiente.\")\n",
        "    except ValueError:\n",
        "        print(\"Valor inválido. Tente novamente.\")\n",
        "    return saldo\n",
        "\n",
        "# Exemplo de uso\n",
        "saldo = 2860.00  # Saldo inicial\n",
        "saldo = transferir(saldo)\n",
        "exibir_extrato()\n"
      ]
    }
  ]
}